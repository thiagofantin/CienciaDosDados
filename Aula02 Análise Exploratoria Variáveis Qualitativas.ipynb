{
 "cells": [
  {
   "cell_type": "markdown",
   "metadata": {},
   "source": []
  },
  {
   "cell_type": "markdown",
   "metadata": {},
   "source": [
    "___\n",
    "# Análise Exploratória: Variáveis qualitativas\n",
    "___\n",
    "\n",
    "## Aula 02\n",
    "\n",
    "\n",
    "**Links Úteis:**\n",
    "1.\tMagalhães e Lima (7ª. Edição): pág. 9 a 16 – destacando para variáveis qualitativas.\n",
    "2.\t10 Minutes to Pandas: http://pandas.pydata.org/pandas-docs/stable/10min.html\n",
    "3.\tEssential Basic Functionality: http://pandas.pydata.org/pandas-docs/stable/basics.html\n",
    "\n",
    "**Hoje:**\n",
    "1.\tAnalisar variáveis qualitativas de forma uni e bivariadas utilizando tabelas de frequências e gráficos de barras e de setor.\n",
    "\n",
    "**Próxima aula:**\n",
    "1.\tLeitura prévia necessária: Magalhães e Lima (7ª. Edição): pág. 9 a 17 – destacando para variáveis quantitativas.\n",
    "\n",
    "___"
   ]
  },
  {
   "cell_type": "markdown",
   "metadata": {},
   "source": [
    "## Empresa de TV\n",
    "\n",
    "Uma empresa de TV via satélite criou recentemente dois tipos de planos de canais (A e B).\n",
    "\n",
    "A empresa tem como objetivo estudar o perfil dos clientes que aderiram ao plano para enviar malas diretas aos potenciais clientes de cada tipo de plano.\n",
    "\n",
    "A base de dados ('EmpresaTV.xlsx') apresenta algumas variáveis para uma amostra de 82 clientes selecionados aleatoriamente dentre aqueles que aderiram aos planos. As variáveis têm os seguintes significados:\n",
    "\n",
    "* CLIENTE: identificador do cliente.\n",
    "* PLANO: apresenta o plano adquirido pelo cliente, A ou B. \n",
    "* EC: apresenta estado civil do cliente no momento da adesão ao plano, Casado, Solteiro e Outros.\n",
    "* SATISFACAO: grau de satisfação do cliente pelo plano,  Muito satisfeito, Satisfeito, Indiferente, Insatisfeito e Muito insatisfeito.\n",
    "* RENDA: renda pessoal do cliente, em milhares de reais.\n",
    "\n",
    "O arquivo <EmpresaTV.xlsx> contém as variáveis descritas acima.\n",
    "\n",
    "Faça uma análise exploratória apenas com as variáveis qualitativas com foco no objetivo da empresa. Desenvolver as seguintes visualizações:\n",
    "\n",
    "1. Gráfico de colunas (bar) e setor (pie) da frequência relativa das variáveis qualitativas.\n",
    "2. Tabela Cruzada entre pares de variaveis qualitativas. Montar o gráfico de colunas. Repetir o processo habilitando a opção \"stacked=True\".\n",
    "\n",
    "Ao final, escrever uma conclusão sobre o ferramental de visualização utilizado.\n",
    "\n",
    "Obs: Comente o código Python com marcações que indicam a utilidade de cada trecho."
   ]
  },
  {
   "cell_type": "code",
   "execution_count": 118,
   "metadata": {
    "collapsed": true
   },
   "outputs": [],
   "source": [
    "%matplotlib inline\n",
    "import pandas as pd\n",
    "import numpy as np\n",
    "import matplotlib.pyplot as plt\n",
    "import os"
   ]
  },
  {
   "cell_type": "code",
   "execution_count": 119,
   "metadata": {
    "collapsed": false
   },
   "outputs": [
    {
     "data": {
      "text/html": [
       "<div>\n",
       "<table border=\"1\" class=\"dataframe\">\n",
       "  <thead>\n",
       "    <tr style=\"text-align: right;\">\n",
       "      <th></th>\n",
       "      <th>CLIENTE</th>\n",
       "      <th>PLANO</th>\n",
       "      <th>EC</th>\n",
       "      <th>SATISFACAO</th>\n",
       "      <th>RENDA</th>\n",
       "    </tr>\n",
       "  </thead>\n",
       "  <tbody>\n",
       "    <tr>\n",
       "      <th>0</th>\n",
       "      <td>1</td>\n",
       "      <td>A</td>\n",
       "      <td>Casado</td>\n",
       "      <td>Muito Satisfeito</td>\n",
       "      <td>21.4</td>\n",
       "    </tr>\n",
       "    <tr>\n",
       "      <th>1</th>\n",
       "      <td>2</td>\n",
       "      <td>A</td>\n",
       "      <td>Solteiro</td>\n",
       "      <td>Muito Satisfeito</td>\n",
       "      <td>17.2</td>\n",
       "    </tr>\n",
       "    <tr>\n",
       "      <th>2</th>\n",
       "      <td>3</td>\n",
       "      <td>A</td>\n",
       "      <td>Outros</td>\n",
       "      <td>Muito Satisfeito</td>\n",
       "      <td>15.6</td>\n",
       "    </tr>\n",
       "    <tr>\n",
       "      <th>3</th>\n",
       "      <td>4</td>\n",
       "      <td>A</td>\n",
       "      <td>Casado</td>\n",
       "      <td>Satisfeito</td>\n",
       "      <td>10.4</td>\n",
       "    </tr>\n",
       "    <tr>\n",
       "      <th>4</th>\n",
       "      <td>5</td>\n",
       "      <td>A</td>\n",
       "      <td>Solteiro</td>\n",
       "      <td>Muito Satisfeito</td>\n",
       "      <td>17.6</td>\n",
       "    </tr>\n",
       "    <tr>\n",
       "      <th>5</th>\n",
       "      <td>6</td>\n",
       "      <td>A</td>\n",
       "      <td>Outros</td>\n",
       "      <td>Satisfeito</td>\n",
       "      <td>9.8</td>\n",
       "    </tr>\n",
       "    <tr>\n",
       "      <th>6</th>\n",
       "      <td>7</td>\n",
       "      <td>A</td>\n",
       "      <td>Casado</td>\n",
       "      <td>Muito Satisfeito</td>\n",
       "      <td>13.5</td>\n",
       "    </tr>\n",
       "    <tr>\n",
       "      <th>7</th>\n",
       "      <td>8</td>\n",
       "      <td>A</td>\n",
       "      <td>Solteiro</td>\n",
       "      <td>Satisfeito</td>\n",
       "      <td>7.8</td>\n",
       "    </tr>\n",
       "    <tr>\n",
       "      <th>8</th>\n",
       "      <td>9</td>\n",
       "      <td>A</td>\n",
       "      <td>Casado</td>\n",
       "      <td>Satisfeito</td>\n",
       "      <td>14.4</td>\n",
       "    </tr>\n",
       "    <tr>\n",
       "      <th>9</th>\n",
       "      <td>10</td>\n",
       "      <td>A</td>\n",
       "      <td>Casado</td>\n",
       "      <td>Muito Satisfeito</td>\n",
       "      <td>11.2</td>\n",
       "    </tr>\n",
       "    <tr>\n",
       "      <th>10</th>\n",
       "      <td>11</td>\n",
       "      <td>A</td>\n",
       "      <td>Casado</td>\n",
       "      <td>Satisfeito</td>\n",
       "      <td>13.2</td>\n",
       "    </tr>\n",
       "    <tr>\n",
       "      <th>11</th>\n",
       "      <td>12</td>\n",
       "      <td>A</td>\n",
       "      <td>Casado</td>\n",
       "      <td>Satisfeito</td>\n",
       "      <td>7.4</td>\n",
       "    </tr>\n",
       "    <tr>\n",
       "      <th>12</th>\n",
       "      <td>13</td>\n",
       "      <td>A</td>\n",
       "      <td>Solteiro</td>\n",
       "      <td>Satisfeito</td>\n",
       "      <td>7.7</td>\n",
       "    </tr>\n",
       "    <tr>\n",
       "      <th>13</th>\n",
       "      <td>14</td>\n",
       "      <td>A</td>\n",
       "      <td>Casado</td>\n",
       "      <td>Satisfeito</td>\n",
       "      <td>9.2</td>\n",
       "    </tr>\n",
       "    <tr>\n",
       "      <th>14</th>\n",
       "      <td>15</td>\n",
       "      <td>A</td>\n",
       "      <td>Solteiro</td>\n",
       "      <td>Satisfeito</td>\n",
       "      <td>10.0</td>\n",
       "    </tr>\n",
       "    <tr>\n",
       "      <th>15</th>\n",
       "      <td>16</td>\n",
       "      <td>A</td>\n",
       "      <td>Solteiro</td>\n",
       "      <td>Muito Satisfeito</td>\n",
       "      <td>12.9</td>\n",
       "    </tr>\n",
       "    <tr>\n",
       "      <th>16</th>\n",
       "      <td>17</td>\n",
       "      <td>A</td>\n",
       "      <td>Casado</td>\n",
       "      <td>Satisfeito</td>\n",
       "      <td>9.4</td>\n",
       "    </tr>\n",
       "    <tr>\n",
       "      <th>17</th>\n",
       "      <td>18</td>\n",
       "      <td>A</td>\n",
       "      <td>Solteiro</td>\n",
       "      <td>Indiferente</td>\n",
       "      <td>10.3</td>\n",
       "    </tr>\n",
       "    <tr>\n",
       "      <th>18</th>\n",
       "      <td>19</td>\n",
       "      <td>A</td>\n",
       "      <td>Casado</td>\n",
       "      <td>Muito Satisfeito</td>\n",
       "      <td>14.8</td>\n",
       "    </tr>\n",
       "    <tr>\n",
       "      <th>19</th>\n",
       "      <td>20</td>\n",
       "      <td>A</td>\n",
       "      <td>Outros</td>\n",
       "      <td>Satisfeito</td>\n",
       "      <td>16.7</td>\n",
       "    </tr>\n",
       "    <tr>\n",
       "      <th>20</th>\n",
       "      <td>21</td>\n",
       "      <td>A</td>\n",
       "      <td>Outros</td>\n",
       "      <td>Indiferente</td>\n",
       "      <td>9.3</td>\n",
       "    </tr>\n",
       "    <tr>\n",
       "      <th>21</th>\n",
       "      <td>22</td>\n",
       "      <td>A</td>\n",
       "      <td>Solteiro</td>\n",
       "      <td>Indiferente</td>\n",
       "      <td>7.4</td>\n",
       "    </tr>\n",
       "    <tr>\n",
       "      <th>22</th>\n",
       "      <td>23</td>\n",
       "      <td>A</td>\n",
       "      <td>Solteiro</td>\n",
       "      <td>Muito Satisfeito</td>\n",
       "      <td>12.4</td>\n",
       "    </tr>\n",
       "    <tr>\n",
       "      <th>23</th>\n",
       "      <td>24</td>\n",
       "      <td>A</td>\n",
       "      <td>Solteiro</td>\n",
       "      <td>Indiferente</td>\n",
       "      <td>7.0</td>\n",
       "    </tr>\n",
       "    <tr>\n",
       "      <th>24</th>\n",
       "      <td>25</td>\n",
       "      <td>A</td>\n",
       "      <td>Casado</td>\n",
       "      <td>Indiferente</td>\n",
       "      <td>6.8</td>\n",
       "    </tr>\n",
       "    <tr>\n",
       "      <th>25</th>\n",
       "      <td>26</td>\n",
       "      <td>A</td>\n",
       "      <td>Casado</td>\n",
       "      <td>Satisfeito</td>\n",
       "      <td>9.9</td>\n",
       "    </tr>\n",
       "    <tr>\n",
       "      <th>26</th>\n",
       "      <td>27</td>\n",
       "      <td>A</td>\n",
       "      <td>Casado</td>\n",
       "      <td>Indiferente</td>\n",
       "      <td>6.1</td>\n",
       "    </tr>\n",
       "    <tr>\n",
       "      <th>27</th>\n",
       "      <td>28</td>\n",
       "      <td>A</td>\n",
       "      <td>Casado</td>\n",
       "      <td>Satisfeito</td>\n",
       "      <td>11.5</td>\n",
       "    </tr>\n",
       "    <tr>\n",
       "      <th>28</th>\n",
       "      <td>29</td>\n",
       "      <td>A</td>\n",
       "      <td>Solteiro</td>\n",
       "      <td>Satisfeito</td>\n",
       "      <td>10.8</td>\n",
       "    </tr>\n",
       "    <tr>\n",
       "      <th>29</th>\n",
       "      <td>30</td>\n",
       "      <td>A</td>\n",
       "      <td>Casado</td>\n",
       "      <td>Insatisfeito</td>\n",
       "      <td>0.8</td>\n",
       "    </tr>\n",
       "    <tr>\n",
       "      <th>...</th>\n",
       "      <td>...</td>\n",
       "      <td>...</td>\n",
       "      <td>...</td>\n",
       "      <td>...</td>\n",
       "      <td>...</td>\n",
       "    </tr>\n",
       "    <tr>\n",
       "      <th>52</th>\n",
       "      <td>53</td>\n",
       "      <td>B</td>\n",
       "      <td>Solteiro</td>\n",
       "      <td>Indiferente</td>\n",
       "      <td>8.1</td>\n",
       "    </tr>\n",
       "    <tr>\n",
       "      <th>53</th>\n",
       "      <td>54</td>\n",
       "      <td>B</td>\n",
       "      <td>Solteiro</td>\n",
       "      <td>Indiferente</td>\n",
       "      <td>4.9</td>\n",
       "    </tr>\n",
       "    <tr>\n",
       "      <th>54</th>\n",
       "      <td>55</td>\n",
       "      <td>B</td>\n",
       "      <td>Solteiro</td>\n",
       "      <td>Indiferente</td>\n",
       "      <td>4.2</td>\n",
       "    </tr>\n",
       "    <tr>\n",
       "      <th>55</th>\n",
       "      <td>56</td>\n",
       "      <td>B</td>\n",
       "      <td>Solteiro</td>\n",
       "      <td>Indiferente</td>\n",
       "      <td>5.5</td>\n",
       "    </tr>\n",
       "    <tr>\n",
       "      <th>56</th>\n",
       "      <td>57</td>\n",
       "      <td>B</td>\n",
       "      <td>Casado</td>\n",
       "      <td>Muito Insatisfeito</td>\n",
       "      <td>0.8</td>\n",
       "    </tr>\n",
       "    <tr>\n",
       "      <th>57</th>\n",
       "      <td>58</td>\n",
       "      <td>B</td>\n",
       "      <td>Casado</td>\n",
       "      <td>Satisfeito</td>\n",
       "      <td>19.2</td>\n",
       "    </tr>\n",
       "    <tr>\n",
       "      <th>58</th>\n",
       "      <td>59</td>\n",
       "      <td>B</td>\n",
       "      <td>Casado</td>\n",
       "      <td>Satisfeito</td>\n",
       "      <td>10.2</td>\n",
       "    </tr>\n",
       "    <tr>\n",
       "      <th>59</th>\n",
       "      <td>60</td>\n",
       "      <td>B</td>\n",
       "      <td>Outros</td>\n",
       "      <td>Muito Insatisfeito</td>\n",
       "      <td>5.3</td>\n",
       "    </tr>\n",
       "    <tr>\n",
       "      <th>60</th>\n",
       "      <td>61</td>\n",
       "      <td>B</td>\n",
       "      <td>Solteiro</td>\n",
       "      <td>Muito Insatisfeito</td>\n",
       "      <td>5.5</td>\n",
       "    </tr>\n",
       "    <tr>\n",
       "      <th>61</th>\n",
       "      <td>62</td>\n",
       "      <td>B</td>\n",
       "      <td>Solteiro</td>\n",
       "      <td>Muito Insatisfeito</td>\n",
       "      <td>4.7</td>\n",
       "    </tr>\n",
       "    <tr>\n",
       "      <th>62</th>\n",
       "      <td>63</td>\n",
       "      <td>B</td>\n",
       "      <td>Solteiro</td>\n",
       "      <td>Satisfeito</td>\n",
       "      <td>9.5</td>\n",
       "    </tr>\n",
       "    <tr>\n",
       "      <th>63</th>\n",
       "      <td>64</td>\n",
       "      <td>B</td>\n",
       "      <td>Solteiro</td>\n",
       "      <td>Satisfeito</td>\n",
       "      <td>10.6</td>\n",
       "    </tr>\n",
       "    <tr>\n",
       "      <th>64</th>\n",
       "      <td>65</td>\n",
       "      <td>B</td>\n",
       "      <td>Solteiro</td>\n",
       "      <td>Muito Insatisfeito</td>\n",
       "      <td>2.5</td>\n",
       "    </tr>\n",
       "    <tr>\n",
       "      <th>65</th>\n",
       "      <td>66</td>\n",
       "      <td>B</td>\n",
       "      <td>Casado</td>\n",
       "      <td>Satisfeito</td>\n",
       "      <td>8.2</td>\n",
       "    </tr>\n",
       "    <tr>\n",
       "      <th>66</th>\n",
       "      <td>67</td>\n",
       "      <td>B</td>\n",
       "      <td>Solteiro</td>\n",
       "      <td>Satisfeito</td>\n",
       "      <td>9.0</td>\n",
       "    </tr>\n",
       "    <tr>\n",
       "      <th>67</th>\n",
       "      <td>68</td>\n",
       "      <td>B</td>\n",
       "      <td>Casado</td>\n",
       "      <td>Satisfeito</td>\n",
       "      <td>7.9</td>\n",
       "    </tr>\n",
       "    <tr>\n",
       "      <th>68</th>\n",
       "      <td>69</td>\n",
       "      <td>B</td>\n",
       "      <td>Solteiro</td>\n",
       "      <td>Indiferente</td>\n",
       "      <td>6.9</td>\n",
       "    </tr>\n",
       "    <tr>\n",
       "      <th>69</th>\n",
       "      <td>70</td>\n",
       "      <td>B</td>\n",
       "      <td>Solteiro</td>\n",
       "      <td>Indiferente</td>\n",
       "      <td>6.2</td>\n",
       "    </tr>\n",
       "    <tr>\n",
       "      <th>70</th>\n",
       "      <td>71</td>\n",
       "      <td>B</td>\n",
       "      <td>Outros</td>\n",
       "      <td>Indiferente</td>\n",
       "      <td>5.3</td>\n",
       "    </tr>\n",
       "    <tr>\n",
       "      <th>71</th>\n",
       "      <td>72</td>\n",
       "      <td>B</td>\n",
       "      <td>Solteiro</td>\n",
       "      <td>Indiferente</td>\n",
       "      <td>5.0</td>\n",
       "    </tr>\n",
       "    <tr>\n",
       "      <th>72</th>\n",
       "      <td>73</td>\n",
       "      <td>B</td>\n",
       "      <td>Solteiro</td>\n",
       "      <td>Indiferente</td>\n",
       "      <td>5.4</td>\n",
       "    </tr>\n",
       "    <tr>\n",
       "      <th>73</th>\n",
       "      <td>74</td>\n",
       "      <td>B</td>\n",
       "      <td>Solteiro</td>\n",
       "      <td>Indiferente</td>\n",
       "      <td>5.8</td>\n",
       "    </tr>\n",
       "    <tr>\n",
       "      <th>74</th>\n",
       "      <td>75</td>\n",
       "      <td>B</td>\n",
       "      <td>Casado</td>\n",
       "      <td>Indiferente</td>\n",
       "      <td>4.9</td>\n",
       "    </tr>\n",
       "    <tr>\n",
       "      <th>75</th>\n",
       "      <td>76</td>\n",
       "      <td>B</td>\n",
       "      <td>Casado</td>\n",
       "      <td>Indiferente</td>\n",
       "      <td>4.3</td>\n",
       "    </tr>\n",
       "    <tr>\n",
       "      <th>76</th>\n",
       "      <td>77</td>\n",
       "      <td>B</td>\n",
       "      <td>Outros</td>\n",
       "      <td>Insatisfeito</td>\n",
       "      <td>4.2</td>\n",
       "    </tr>\n",
       "    <tr>\n",
       "      <th>77</th>\n",
       "      <td>78</td>\n",
       "      <td>B</td>\n",
       "      <td>Outros</td>\n",
       "      <td>Insatisfeito</td>\n",
       "      <td>4.3</td>\n",
       "    </tr>\n",
       "    <tr>\n",
       "      <th>78</th>\n",
       "      <td>79</td>\n",
       "      <td>B</td>\n",
       "      <td>Solteiro</td>\n",
       "      <td>Insatisfeito</td>\n",
       "      <td>5.7</td>\n",
       "    </tr>\n",
       "    <tr>\n",
       "      <th>79</th>\n",
       "      <td>80</td>\n",
       "      <td>B</td>\n",
       "      <td>Casado</td>\n",
       "      <td>Insatisfeito</td>\n",
       "      <td>4.0</td>\n",
       "    </tr>\n",
       "    <tr>\n",
       "      <th>80</th>\n",
       "      <td>81</td>\n",
       "      <td>B</td>\n",
       "      <td>Outros</td>\n",
       "      <td>Insatisfeito</td>\n",
       "      <td>5.4</td>\n",
       "    </tr>\n",
       "    <tr>\n",
       "      <th>81</th>\n",
       "      <td>82</td>\n",
       "      <td>B</td>\n",
       "      <td>Casado</td>\n",
       "      <td>Muito Insatisfeito</td>\n",
       "      <td>0.6</td>\n",
       "    </tr>\n",
       "  </tbody>\n",
       "</table>\n",
       "<p>82 rows × 5 columns</p>\n",
       "</div>"
      ],
      "text/plain": [
       "    CLIENTE PLANO        EC          SATISFACAO  RENDA\n",
       "0         1     A    Casado    Muito Satisfeito   21.4\n",
       "1         2     A  Solteiro    Muito Satisfeito   17.2\n",
       "2         3     A    Outros    Muito Satisfeito   15.6\n",
       "3         4     A    Casado          Satisfeito   10.4\n",
       "4         5     A  Solteiro    Muito Satisfeito   17.6\n",
       "5         6     A    Outros          Satisfeito    9.8\n",
       "6         7     A    Casado    Muito Satisfeito   13.5\n",
       "7         8     A  Solteiro          Satisfeito    7.8\n",
       "8         9     A    Casado          Satisfeito   14.4\n",
       "9        10     A    Casado    Muito Satisfeito   11.2\n",
       "10       11     A    Casado          Satisfeito   13.2\n",
       "11       12     A    Casado          Satisfeito    7.4\n",
       "12       13     A  Solteiro          Satisfeito    7.7\n",
       "13       14     A    Casado          Satisfeito    9.2\n",
       "14       15     A  Solteiro          Satisfeito   10.0\n",
       "15       16     A  Solteiro    Muito Satisfeito   12.9\n",
       "16       17     A    Casado          Satisfeito    9.4\n",
       "17       18     A  Solteiro         Indiferente   10.3\n",
       "18       19     A    Casado    Muito Satisfeito   14.8\n",
       "19       20     A    Outros          Satisfeito   16.7\n",
       "20       21     A    Outros         Indiferente    9.3\n",
       "21       22     A  Solteiro         Indiferente    7.4\n",
       "22       23     A  Solteiro    Muito Satisfeito   12.4\n",
       "23       24     A  Solteiro         Indiferente    7.0\n",
       "24       25     A    Casado         Indiferente    6.8\n",
       "25       26     A    Casado          Satisfeito    9.9\n",
       "26       27     A    Casado         Indiferente    6.1\n",
       "27       28     A    Casado          Satisfeito   11.5\n",
       "28       29     A  Solteiro          Satisfeito   10.8\n",
       "29       30     A    Casado        Insatisfeito    0.8\n",
       "..      ...   ...       ...                 ...    ...\n",
       "52       53     B  Solteiro         Indiferente    8.1\n",
       "53       54     B  Solteiro         Indiferente    4.9\n",
       "54       55     B  Solteiro         Indiferente    4.2\n",
       "55       56     B  Solteiro         Indiferente    5.5\n",
       "56       57     B    Casado  Muito Insatisfeito    0.8\n",
       "57       58     B    Casado          Satisfeito   19.2\n",
       "58       59     B    Casado          Satisfeito   10.2\n",
       "59       60     B    Outros  Muito Insatisfeito    5.3\n",
       "60       61     B  Solteiro  Muito Insatisfeito    5.5\n",
       "61       62     B  Solteiro  Muito Insatisfeito    4.7\n",
       "62       63     B  Solteiro          Satisfeito    9.5\n",
       "63       64     B  Solteiro          Satisfeito   10.6\n",
       "64       65     B  Solteiro  Muito Insatisfeito    2.5\n",
       "65       66     B    Casado          Satisfeito    8.2\n",
       "66       67     B  Solteiro          Satisfeito    9.0\n",
       "67       68     B    Casado          Satisfeito    7.9\n",
       "68       69     B  Solteiro         Indiferente    6.9\n",
       "69       70     B  Solteiro         Indiferente    6.2\n",
       "70       71     B    Outros         Indiferente    5.3\n",
       "71       72     B  Solteiro         Indiferente    5.0\n",
       "72       73     B  Solteiro         Indiferente    5.4\n",
       "73       74     B  Solteiro         Indiferente    5.8\n",
       "74       75     B    Casado         Indiferente    4.9\n",
       "75       76     B    Casado         Indiferente    4.3\n",
       "76       77     B    Outros        Insatisfeito    4.2\n",
       "77       78     B    Outros        Insatisfeito    4.3\n",
       "78       79     B  Solteiro        Insatisfeito    5.7\n",
       "79       80     B    Casado        Insatisfeito    4.0\n",
       "80       81     B    Outros        Insatisfeito    5.4\n",
       "81       82     B    Casado  Muito Insatisfeito    0.6\n",
       "\n",
       "[82 rows x 5 columns]"
      ]
     },
     "execution_count": 119,
     "metadata": {},
     "output_type": "execute_result"
    }
   ],
   "source": [
    "df = pd.read_excel('EmpresaTV.xlsx')\n",
    "df"
   ]
  },
  {
   "cell_type": "code",
   "execution_count": 120,
   "metadata": {
    "collapsed": false
   },
   "outputs": [
    {
     "data": {
      "text/plain": [
       "82"
      ]
     },
     "execution_count": 120,
     "metadata": {},
     "output_type": "execute_result"
    }
   ],
   "source": [
    "n = df.shape[0]\n",
    "n"
   ]
  },
  {
   "cell_type": "code",
   "execution_count": 121,
   "metadata": {
    "collapsed": false
   },
   "outputs": [],
   "source": [
    "tb1 = (df.PLANO.value_counts()/n*100).round(decimals=1)\n",
    "tb2 = (df.EC.value_counts()/n*100).round(decimals=1)\n",
    "tb3 = (df.SATISFACAO.value_counts()/n*100).round(decimals=1)"
   ]
  },
  {
   "cell_type": "code",
   "execution_count": 122,
   "metadata": {
    "collapsed": false
   },
   "outputs": [
    {
     "data": {
      "text/plain": [
       "<matplotlib.axes._subplots.AxesSubplot at 0x27ef5ab8fd0>"
      ]
     },
     "execution_count": 122,
     "metadata": {},
     "output_type": "execute_result"
    },
    {
     "data": {
      "image/png": "[encoded data removed]",
      "text/plain": [
       "<matplotlib.figure.Figure at 0x27ef5a6cc50>"
      ]
     },
     "metadata": {},
     "output_type": "display_data"
    }
   ],
   "source": [
    "tb1.plot(kind='bar')"
   ]
  },
  {
   "cell_type": "code",
   "execution_count": 123,
   "metadata": {
    "collapsed": false
   },
   "outputs": [
    {
     "data": {
      "text/plain": [
       "<matplotlib.axes._subplots.AxesSubplot at 0x27ef5b05898>"
      ]
     },
     "execution_count": 123,
     "metadata": {},
     "output_type": "execute_result"
    },
    {
     "data": {
      "image/png": "[encoded data removed]",
      "text/plain": [
       "<matplotlib.figure.Figure at 0x27ef2caa780>"
      ]
     },
     "metadata": {},
     "output_type": "display_data"
    }
   ],
   "source": [
    "tb1.plot(kind='pie')"
   ]
  },
  {
   "cell_type": "code",
   "execution_count": 124,
   "metadata": {
    "collapsed": false
   },
   "outputs": [
    {
     "data": {
      "text/plain": [
       "<matplotlib.axes._subplots.AxesSubplot at 0x27ef5a940f0>"
      ]
     },
     "execution_count": 124,
     "metadata": {},
     "output_type": "execute_result"
    },
    {
     "data": {
      "image/png": "[encoded data removed]",
      "text/plain": [
       "<matplotlib.figure.Figure at 0x27ef5b22390>"
      ]
     },
     "metadata": {},
     "output_type": "display_data"
    }
   ],
   "source": [
    "tb2.plot(kind='bar')"
   ]
  },
  {
   "cell_type": "code",
   "execution_count": 125,
   "metadata": {
    "collapsed": false
   },
   "outputs": [
    {
     "data": {
      "text/plain": [
       "<matplotlib.axes._subplots.AxesSubplot at 0x27ef5be8160>"
      ]
     },
     "execution_count": 125,
     "metadata": {},
     "output_type": "execute_result"
    },
    {
     "data": {
      "image/png": "[encoded data removed]",
      "text/plain": [
       "<matplotlib.figure.Figure at 0x27ef5c22898>"
      ]
     },
     "metadata": {},
     "output_type": "display_data"
    }
   ],
   "source": [
    "tb2.plot(kind='pie')"
   ]
  },
  {
   "cell_type": "code",
   "execution_count": 126,
   "metadata": {
    "collapsed": false
   },
   "outputs": [
    {
     "data": {
      "text/plain": [
       "<matplotlib.axes._subplots.AxesSubplot at 0x27ef5c44e10>"
      ]
     },
     "execution_count": 126,
     "metadata": {},
     "output_type": "execute_result"
    },
    {
     "data": {
      "image/png": "[encoded data removed]",
      "text/plain": [
       "<matplotlib.figure.Figure at 0x27ef5c2d940>"
      ]
     },
     "metadata": {},
     "output_type": "display_data"
    }
   ],
   "source": [
    "tb3.plot(kind='bar')"
   ]
  },
  {
   "cell_type": "code",
   "execution_count": 127,
   "metadata": {
    "collapsed": false
   },
   "outputs": [
    {
     "data": {
      "text/plain": [
       "<matplotlib.axes._subplots.AxesSubplot at 0x27ef5c990b8>"
      ]
     },
     "execution_count": 127,
     "metadata": {},
     "output_type": "execute_result"
    },
    {
     "data": {
      "image/png": "[encoded data removed]",
      "text/plain": [
       "<matplotlib.figure.Figure at 0x27ef5ca0400>"
      ]
     },
     "metadata": {},
     "output_type": "display_data"
    }
   ],
   "source": [
    "tb3.plot(kind='pie')"
   ]
  },
  {
   "cell_type": "code",
   "execution_count": 128,
   "metadata": {
    "collapsed": false
   },
   "outputs": [
    {
     "data": {
      "text/html": [
       "<div>\n",
       "<table border=\"1\" class=\"dataframe\">\n",
       "  <thead>\n",
       "    <tr style=\"text-align: right;\">\n",
       "      <th>SATISFACAO</th>\n",
       "      <th>Indiferente</th>\n",
       "      <th>Insatisfeito</th>\n",
       "      <th>Muito Insatisfeito</th>\n",
       "      <th>Muito Satisfeito</th>\n",
       "      <th>Satisfeito</th>\n",
       "    </tr>\n",
       "    <tr>\n",
       "      <th>PLANO</th>\n",
       "      <th></th>\n",
       "      <th></th>\n",
       "      <th></th>\n",
       "      <th></th>\n",
       "      <th></th>\n",
       "    </tr>\n",
       "  </thead>\n",
       "  <tbody>\n",
       "    <tr>\n",
       "      <th>A</th>\n",
       "      <td>7</td>\n",
       "      <td>5</td>\n",
       "      <td>2</td>\n",
       "      <td>12</td>\n",
       "      <td>20</td>\n",
       "    </tr>\n",
       "    <tr>\n",
       "      <th>B</th>\n",
       "      <td>12</td>\n",
       "      <td>11</td>\n",
       "      <td>6</td>\n",
       "      <td>0</td>\n",
       "      <td>7</td>\n",
       "    </tr>\n",
       "  </tbody>\n",
       "</table>\n",
       "</div>"
      ],
      "text/plain": [
       "SATISFACAO  Indiferente  Insatisfeito  Muito Insatisfeito  Muito Satisfeito  \\\n",
       "PLANO                                                                         \n",
       "A                     7             5                   2                12   \n",
       "B                    12            11                   6                 0   \n",
       "\n",
       "SATISFACAO  Satisfeito  \n",
       "PLANO                   \n",
       "A                   20  \n",
       "B                    7  "
      ]
     },
     "execution_count": 128,
     "metadata": {},
     "output_type": "execute_result"
    }
   ],
   "source": [
    "CT1 = pd.crosstab(df.PLANO,df.SATISFACAO)\n",
    "CT1"
   ]
  },
  {
   "cell_type": "code",
   "execution_count": 129,
   "metadata": {
    "collapsed": false
   },
   "outputs": [
    {
     "data": {
      "text/html": [
       "<div>\n",
       "<table border=\"1\" class=\"dataframe\">\n",
       "  <thead>\n",
       "    <tr style=\"text-align: right;\">\n",
       "      <th>SATISFACAO</th>\n",
       "      <th>Indiferente</th>\n",
       "      <th>Insatisfeito</th>\n",
       "      <th>Muito Insatisfeito</th>\n",
       "      <th>Muito Satisfeito</th>\n",
       "      <th>Satisfeito</th>\n",
       "    </tr>\n",
       "    <tr>\n",
       "      <th>EC</th>\n",
       "      <th></th>\n",
       "      <th></th>\n",
       "      <th></th>\n",
       "      <th></th>\n",
       "      <th></th>\n",
       "    </tr>\n",
       "  </thead>\n",
       "  <tbody>\n",
       "    <tr>\n",
       "      <th>Casado</th>\n",
       "      <td>5</td>\n",
       "      <td>4</td>\n",
       "      <td>4</td>\n",
       "      <td>5</td>\n",
       "      <td>18</td>\n",
       "    </tr>\n",
       "    <tr>\n",
       "      <th>Outros</th>\n",
       "      <td>2</td>\n",
       "      <td>7</td>\n",
       "      <td>1</td>\n",
       "      <td>1</td>\n",
       "      <td>2</td>\n",
       "    </tr>\n",
       "    <tr>\n",
       "      <th>Solteiro</th>\n",
       "      <td>12</td>\n",
       "      <td>5</td>\n",
       "      <td>3</td>\n",
       "      <td>6</td>\n",
       "      <td>7</td>\n",
       "    </tr>\n",
       "  </tbody>\n",
       "</table>\n",
       "</div>"
      ],
      "text/plain": [
       "SATISFACAO  Indiferente  Insatisfeito  Muito Insatisfeito  Muito Satisfeito  \\\n",
       "EC                                                                            \n",
       "Casado                5             4                   4                 5   \n",
       "Outros                2             7                   1                 1   \n",
       "Solteiro             12             5                   3                 6   \n",
       "\n",
       "SATISFACAO  Satisfeito  \n",
       "EC                      \n",
       "Casado              18  \n",
       "Outros               2  \n",
       "Solteiro             7  "
      ]
     },
     "execution_count": 129,
     "metadata": {},
     "output_type": "execute_result"
    }
   ],
   "source": [
    "CT2 = pd.crosstab(df.EC,df.SATISFACAO)\n",
    "CT2"
   ]
  },
  {
   "cell_type": "code",
   "execution_count": 130,
   "metadata": {
    "collapsed": false
   },
   "outputs": [
    {
     "data": {
      "text/html": [
       "<div>\n",
       "<table border=\"1\" class=\"dataframe\">\n",
       "  <thead>\n",
       "    <tr style=\"text-align: right;\">\n",
       "      <th>EC</th>\n",
       "      <th>Casado</th>\n",
       "      <th>Outros</th>\n",
       "      <th>Solteiro</th>\n",
       "    </tr>\n",
       "    <tr>\n",
       "      <th>PLANO</th>\n",
       "      <th></th>\n",
       "      <th></th>\n",
       "      <th></th>\n",
       "    </tr>\n",
       "  </thead>\n",
       "  <tbody>\n",
       "    <tr>\n",
       "      <th>A</th>\n",
       "      <td>26</td>\n",
       "      <td>7</td>\n",
       "      <td>13</td>\n",
       "    </tr>\n",
       "    <tr>\n",
       "      <th>B</th>\n",
       "      <td>10</td>\n",
       "      <td>6</td>\n",
       "      <td>20</td>\n",
       "    </tr>\n",
       "  </tbody>\n",
       "</table>\n",
       "</div>"
      ],
      "text/plain": [
       "EC     Casado  Outros  Solteiro\n",
       "PLANO                          \n",
       "A          26       7        13\n",
       "B          10       6        20"
      ]
     },
     "execution_count": 130,
     "metadata": {},
     "output_type": "execute_result"
    }
   ],
   "source": [
    "CT3 = pd.crosstab(df.PLANO,df.EC)\n",
    "CT3"
   ]
  },
  {
   "cell_type": "code",
   "execution_count": 131,
   "metadata": {
    "collapsed": false
   },
   "outputs": [
    {
     "data": {
      "text/plain": [
       "<matplotlib.axes._subplots.AxesSubplot at 0x27ef5c7f5f8>"
      ]
     },
     "execution_count": 131,
     "metadata": {},
     "output_type": "execute_result"
    },
    {
     "data": {
      "image/png": "[encoded data removed]",
      "text/plain": [
       "<matplotlib.figure.Figure at 0x27ef5d02d30>"
      ]
     },
     "metadata": {},
     "output_type": "display_data"
    }
   ],
   "source": [
    "CT1.plot(kind='bar', title='PLANO X SATISFACAO',figsize=(8,8), stacked=True)\n"
   ]
  },
  {
   "cell_type": "code",
   "execution_count": 132,
   "metadata": {
    "collapsed": false
   },
   "outputs": [
    {
     "data": {
      "text/plain": [
       "<matplotlib.axes._subplots.AxesSubplot at 0x27ef5c7f550>"
      ]
     },
     "execution_count": 132,
     "metadata": {},
     "output_type": "execute_result"
    },
    {
     "data": {
      "image/png": "[encoded data removed]",
      "text/plain": [
       "<matplotlib.figure.Figure at 0x27ef5daaa20>"
      ]
     },
     "metadata": {},
     "output_type": "display_data"
    }
   ],
   "source": [
    "CT2.plot(kind='bar',title='SATISFACAO X ESTADO CIVIL', figsize=(8,8), stacked=True)"
   ]
  },
  {
   "cell_type": "code",
   "execution_count": 133,
   "metadata": {
    "collapsed": false
   },
   "outputs": [
    {
     "data": {
      "text/plain": [
       "<matplotlib.axes._subplots.AxesSubplot at 0x27ef5dcacf8>"
      ]
     },
     "execution_count": 133,
     "metadata": {},
     "output_type": "execute_result"
    },
    {
     "data": {
      "image/png": "[encoded data removed]",
      "text/plain": [
       "<matplotlib.figure.Figure at 0x27ef5e82be0>"
      ]
     },
     "metadata": {},
     "output_type": "display_data"
    }
   ],
   "source": [
    "CT3.plot(kind='bar', figsize=(8,8), title ='ESTADO CIVIL X PLANO', stacked=True)"
   ]
  },
  {
   "cell_type": "markdown",
   "metadata": {},
   "source": [
    "**Conclusões**\n",
    "\n",
    " O plano A, que é o mais assinado, além de proporcionar grande satisfação a seus clientes (grande parte se considera \"Muito Satisfeito\" ou \"Satisfeito\"), é o mais assinado. Já o plano B, menos assinado, recebe uma classificação ruim em relação a satisfação de seus clientes (grande parte se considera \"Indiferente\", \"Satisfeito\" ou \"Muito Insatisfeito\"). Com essas informações, poderíamos concluir que o plano A é mais benéfico que o B, porém se analisarmos os segundo e terceiro gráficos, podemos perceber que os casados são os mais satisfeitos com seus planos e estes, predominam o plano A, já os solteiros, que são os mais insatisfeitos, predominam o plano B (outros estados civis são repartidos de forma muito parecida). Ou seja, existem algumas conclusões possíveis para a diferença de grau de satisfação entre os planos:\n",
    "    \n",
    "- Os casados, por motivos pessoais são mais satisfeitos que os solteiros, dessa forma, por predominarem o plano A, dá-se a impressão dele ser mais benéfico.\n",
    "\n",
    "- O plano A ser mais oferecido ou mais propício para casados, que por sua vez, talvez sejam mais satisfeitos ou o plano  seja realmente melhor, da mesma forma que o plano B pode ser mais oferecido ou mais propício a pessoas solteiras, que por sua vez, podem ser menos satisfeitas ou o plano ser realmente menos benéfico.\n",
    "\n",
    "- O plano A ser realmente mais benéfico que o plano B.\n",
    "\n",
    "    \n",
    " Com isso, é possível perceber que faltam informações para concluir algo mais concreto sobre a Empresa de TV, talvez algum dado quantitativo como a renda de cada cliente, porém com os dados fornecidos, existem diversas conclusões possíveis."
   ]
  }
 ],
 "metadata": {
  "anaconda-cloud": {},
  "kernelspec": {
   "display_name": "Python 3",
   "language": "python",
   "name": "python3"
  },
  "language_info": {
   "codemirror_mode": {
    "name": "ipython",
    "version": 3
   },
   "file_extension": ".py",
   "mimetype": "text/x-python",
   "name": "python",
   "nbconvert_exporter": "python",
   "pygments_lexer": "ipython3",
   "version": "3.5.1"
  }
 },
 "nbformat": 4,
 "nbformat_minor": 0
}
